{
 "cells": [
  {
   "cell_type": "markdown",
   "metadata": {},
   "source": [
    "# Objetivo. Predicción del destino final de mascotas en un albergue.\n",
    "L.E. Rojón \n",
    "\n",
    "138442\n",
    "\n",
    "# Introducción\n",
    "\n",
    "Cada año, aproximadamente 7.6 millones de animales de compañía terminan en refugios de los EE. UU. Muchos animales son abandonados por sus dueños como no deseados, mientras que otros son recogidos después de perderse o de salir de situaciones de crueldad. Muchos de estos animales encuentran familias que los llevan a casa, pero otros tantos no son tan afortunados. 2.7 millones de perros y gatos son sacrificados en los Estados Unidos cada año.\n",
    "\n",
    "Usando un conjunto de datos de información de admisión del Austin Animal Center que incluye raza, color, sexo y edad, buscamos predecir el desenlace o destino final de cada animal. Los datos van desde el 1 de octubre de 2013 hasta marzo de 2016. Los resultados representan el estado de los animales cuando abandonan el Animal Center. Estos resultados incluyen: adopción, muerte, eutanasia, devolución al propietario y transferencia. Todos los animales reciben una Identificación de Animal única durante su estancia en el refugio.\n",
    "\n",
    "Este análisis puede ayudar a comprender las tendencias de los animales con ciertas características. Estas ideas podrían ayudar a los refugios a concentrar su energía en animales específicos que necesitan un poco de atención adicional para encontrar un nuevo hogar.\n",
    "\n",
    "Los datos de entrenamiento y prueba se dividieron aleatoriamente y están incluídos en los archivos que siguen.\n",
    "\n",
    "   -    train.csv - el conjunto de entrenamiento (26,729 observaciones).\n",
    "   -    test.csv - el conjunto de prueba (11,456 observaciones).\n",
    "   \n",
    "Los datos pueden descargarse de aquí: https://www.kaggle.com/c/shelter-animal-outcomes.\n",
    "\n",
    "Esta base de datos cuenta con casi 40,000 observaciones y tiene 10 atributos que son como sigue. "
   ]
  },
  {
   "cell_type": "markdown",
   "metadata": {},
   "source": [
    "1\\.   AnimalID: El número de identificación del animal.\n",
    "\n",
    "2\\.   Name: El nombre del animal.\n",
    "\n",
    "3\\.   DateTime: La fecha en que tuvo su desenlace en el albergue.\n",
    "\n",
    "4\\.   OutcomeType: El tipo de desenlace (si lo adoptaron, regresaron a su dueño, transfirieron o sacrificaron)\n",
    "\n",
    "5\\.   OutcomeSubtype: El subtipo de desenlace.\n",
    "\n",
    "6\\.   AnimalType: El tipo de animal (perro o gato).\n",
    "\n",
    "7\\.    SexuponOutcome: Si esterilizaron al animal o no.\n",
    "\n",
    "8\\.   AgeuponOutcome: La edad del desenlace.\n",
    "\n",
    "9\\.   Breed: La raza.\n",
    "\n",
    "10\\.   Color: El color."
   ]
  },
  {
   "cell_type": "markdown",
   "metadata": {},
   "source": [
    "# Metodología\n",
    "Los datos ya fueron divididos de antemano como entrenamiento y prueba. Esto hace pensar que de antemano se ha prevenido un posible sobreajuste de los modelos. Sin embargo, en la construcción del modelo se optó por ser aún más precavidos. Entonces, del conjunto de entrenamiento extraeremos una nueva partición de datos de entrenamiento y datos de validación. Esto con el fin de añadir una nueva étapa de validación del modelo y prevenir un sobreajuste. También se pensó en combinar los archivos en uno más grande y de ahi hacer las subsecuentes divisiones (entrenamiento, validación y prueba). Pero, al ser bases de datos provenientes de competencias de Kaggle, el archivo test.csv no cuenta con el atributo de interés OutcomeType. Por consiguiente, de los datos del archivo train.csv se obtuvo la partición de datos para la etapa de entrenamiento y datos para la etapa de validación.\n",
    "\n",
    "En el aprendizaje de máquina, la clasificación es el problema de identificar a qué conjunto de categorías (subpoblaciones) pertenece una nueva observación, sobre la base de un conjunto de datos de formación que contiene observaciones (o instancias) de cuya categoría se conoce la pertenencia (el conjunto de validación en este caso). La clasificación se considera una instancia de aprendizaje supervisado, es decir, el aprendizaje donde está disponible un conjunto de entrenamiento de observaciones correctamente identificadas (como en esta competencia de Kaggle). Este es un problema de clasificación entre los distintos destinos o desenlaces que pueden tener las mascotas (adoptadas, transferidas, sacrificadas, muertas o regresadas a su dueño).\n",
    "\n",
    "En particular, utilizaremos el algoritmo supervisado del Árbol De Decisión. Un Árbol De Decisión (como un modelo predictivo) toma las observaciones sobre un atributo (representado en las ramas) y lo lleva  a conclusiones sobre el valor objetivo del atributo (representado en las hojas). Se adjunta una imagen del Árbol De Decisión en el archivo tree.png, pero se omite el código que lo generó por ocasionar problemas con el sistema.\n",
    "\n",
    "Después, utilizamos una mejora natural a este algoritmo utilizando el método conjunto de Bosque Aleatorio. Los métodos conjuntos utilizan algoritmos de aprendizaje múltiples para obtener un mejor rendimiento predictivo que el que podría obtenerse sólo de cualquiera de los algoritmos de aprendizaje constituyentes, llamados algoritmos débiles del algoritmo conjunto. Un método conjunto es mucho más robusto que los métodos débiles que lo conforman. En un método conjunto sus algoritmos individuales pueden ser débiles, pero siempre que el rendimiento de cada uno sea ligeramente mejor que la predicción aleatoria, se puede demostrar que el modelo final converge a un algoritmo fuerte. \n",
    "\n",
    "El Bosque Aleatorio es una combinación de árboles predictores tal que cada árbol depende de los valores de un vector aleatorio probado independientemente y con la misma distribución para cada uno de estos. Luego, construye una larga colección de árboles no correlacionados para finalmente promediarlos, otorgando la probabilidad de clase en la mayoría de los casos más precisa que la de los árboles aleatorios.\n",
    "\n",
    "Finalmente, en un último intento de prevenir un sobreajuste, tomamos un último método conjunto. En algunos problemas, este método puede ser menos susceptible al problema de sobreajuste que otros algoritmos de aprendizaje conjunto como en particular el Bosque Aleatorio, es por esto que hemos decidido utilizarlo para este problema. Este algoritmo es AdaBoost (abreviatura de Adaptive Boosting). Este algoritmo se puede usar para mejorar el rendimiento. El resultado de los otros algoritmos de aprendizaje \"débiles\" que conforman este método conjunto se combinan en una suma ponderada que representa el resultado final del clasificador potenciado. AdaBoost es adaptativo en el sentido de que los aprendices débiles subsecuentes son ajustados a favor de aquellos casos clasificados erróneamente por clasificadores anteriores. AdaBoost es sensible a datos ruidosos y atípicos. \n",
    "\n",
    "La hipótesis del proyecto es que los algoritmos de la familia de árboles de decisión (Árbol De Decisión, Bosque Aleatorio y AdaBoost) resultan buenos modelos de clasifición para este problema.\n",
    "\n",
    "Primero, se hace un análisis exploratorio de los datos para determinar los atributos de interés de la base de datos para la tarea en cuestión, predecir la variable 'OutcomeType' que representa el desenlace o destino final de los animales.\n",
    "\n",
    "Segundo, ya que se transformaron los datos al formato necesario para la modelación, tomamos estos datos modificados y creamos un conjunto de entrenamiento con el que el algoritmo \"aprende\" primero, otro de validación con el que afinaremos el desempeño del algoritmo y otro de prueba con el que evaluaremos el desempeño final del algoritmo, proponiendo mejoras u otros algoritmos que tuvieran teóricamente desempeño distinto a estos."
   ]
  },
  {
   "cell_type": "markdown",
   "metadata": {},
   "source": [
    "# Reporte\n",
    "A continuación, comenzamos con un análisis exploratorio de los datos para seleccionar los atributos relevantes para la construcción de los algoritmos. Primero, cargamos algunas librerias a utilizar."
   ]
  },
  {
   "cell_type": "code",
   "execution_count": 1,
   "metadata": {},
   "outputs": [],
   "source": [
    "import sys\n",
    "import graphviz\n",
    "import pydotplus\n",
    "import collections\n",
    "import pandas as pd\n",
    "import numpy as np \n",
    "import matplotlib.pyplot as plt  \n",
    "import random as rn\n",
    "import seaborn as sns\n",
    "%matplotlib inline \n",
    "from sklearn.model_selection import train_test_split\n",
    "from sklearn import preprocessing\n",
    "from random import random,randint,seed,sample \n",
    "from sklearn.preprocessing import StandardScaler\n",
    "from sklearn.tree import DecisionTreeClassifier\n",
    "from sklearn.ensemble import AdaBoostClassifier, RandomForestClassifier\n",
    "from sklearn.cluster import KMeans\n",
    "from sklearn import tree \n",
    "from sklearn.linear_model import LogisticRegression\n",
    "from sklearn.metrics import classification_report,confusion_matrix, accuracy_score \n",
    "from sklearn.cluster import KMeans \n",
    "from sklearn.externals.six import StringIO  \n",
    "from IPython.display import Image  \n",
    "from sklearn.tree import export_graphviz\n",
    "from sklearn.model_selection import GridSearchCV\n",
    "from datetime import datetime"
   ]
  },
  {
   "cell_type": "markdown",
   "metadata": {},
   "source": [
    "Definimos las funciones con las que modificaremos los datos para hacer el análisis exploratorio y encontrar los atributos de interés."
   ]
  },
  {
   "cell_type": "code",
   "execution_count": 2,
   "metadata": {},
   "outputs": [],
   "source": [
    "def edad_categorica(x):\n",
    "    if x < 3: return 'Joven'\n",
    "    if x < 5: return 'AdultoJoven'\n",
    "    if x < 10: return 'Adulto'\n",
    "    return 'Viejo'\n",
    "def edad_anios(x):\n",
    "    x = str(x)\n",
    "    if x == 'nan': return 0\n",
    "    age = int(x.split()[0])\n",
    "    if x.find('year') > -1: return age \n",
    "    if x.find('month')> -1: return age / 12.\n",
    "    if x.find('week')> -1: return age / 52.\n",
    "    if x.find('day')> -1: return age / 365.\n",
    "    else: return 0\n",
    "def Transforma(data, train):\n",
    "    data['TieneNombre'] = data['Name'].fillna(0)\n",
    "    data.loc[data['TieneNombre'] != 0,\"TieneNombre\"] = 1\n",
    "    data['TieneNombre'] = data['TieneNombre'].astype(int)\n",
    "    data['AnimalType'] = data['AnimalType'].map({'Cat':0,'Dog':1})\n",
    "\n",
    "    if(train):\n",
    "        data.drop(['AnimalID','OutcomeSubtype'],axis=1, inplace=True)\n",
    "        data['OutcomeType'] = data['OutcomeType'].map({'Return_to_owner':4, 'Euthanasia':3, 'Adoption':0, 'Transfer':5, 'Died':2})\n",
    "            \n",
    "    gender = {'Neutered Male':1, 'Spayed Female':2, 'Intact Male':3, 'Intact Female':4, 'Unknown':5, np.nan:0}\n",
    "    data['SexuponOutcome'] = data['SexuponOutcome'].map(gender)\n",
    "\n",
    "    def agetodays(x):\n",
    "        try:\n",
    "            y = x.split()\n",
    "        except:\n",
    "            return None \n",
    "        if 'year' in y[1]:\n",
    "            return float(y[0]) * 365\n",
    "        elif 'month' in y[1]:\n",
    "            return float(y[0]) * (365/12)\n",
    "        elif 'week' in y[1]:\n",
    "            return float(y[0]) * 7\n",
    "        elif 'day' in y[1]:\n",
    "            return float(y[0])\n",
    "        \n",
    "    data['EdadEnDias'] = data['AgeuponOutcome'].map(agetodays)\n",
    "    data.loc[(data['EdadEnDias'].isnull()),'EdadEnDias'] = data['EdadEnDias'].median()\n",
    "\n",
    "    data['Nombre+Genero'] = data['TieneNombre'] + data['SexuponOutcome']\n",
    "    data['Tipo+Genero'] = data['AnimalType'] + data['SexuponOutcome']\n",
    "    data['EsMezcla'] = data['Breed'].str.contains('mix',case=False).astype(int)\n",
    "       \n",
    "    return data.drop(['AgeuponOutcome','Name','Breed','Color','DateTime'],axis=1)\n",
    "def genero(x):\n",
    "    x = str(x)\n",
    "    if x.find('Male') >= 0: return 'Macho'\n",
    "    if x.find('Female') >= 0: return 'Hembra'\n",
    "    return 'unknown'\n",
    "def esteril(x):\n",
    "    x = str(x)\n",
    "    if x.find('Spayed') >= 0: return 'Esterilizado'\n",
    "    if x.find('Neutered') >= 0: return 'Esterilizado'\n",
    "    if x.find('Intact') >= 0: return 'Intacto'\n",
    "    return 'No_se_sabe'\n",
    "def raza(x):\n",
    "    x = str(x)\n",
    "    if x.find('Mix') >= 0: return 'Mezcla'\n",
    "    return 'not'"
   ]
  },
  {
   "cell_type": "markdown",
   "metadata": {},
   "source": [
    "Cargamos los datos y rápidamente se examinan sus características generales para comenzar la familearización con ellos."
   ]
  },
  {
   "cell_type": "code",
   "execution_count": 3,
   "metadata": {},
   "outputs": [
    {
     "data": {
      "text/html": [
       "<div>\n",
       "<style scoped>\n",
       "    .dataframe tbody tr th:only-of-type {\n",
       "        vertical-align: middle;\n",
       "    }\n",
       "\n",
       "    .dataframe tbody tr th {\n",
       "        vertical-align: top;\n",
       "    }\n",
       "\n",
       "    .dataframe thead th {\n",
       "        text-align: right;\n",
       "    }\n",
       "</style>\n",
       "<table border=\"1\" class=\"dataframe\">\n",
       "  <thead>\n",
       "    <tr style=\"text-align: right;\">\n",
       "      <th></th>\n",
       "      <th>AnimalID</th>\n",
       "      <th>Name</th>\n",
       "      <th>DateTime</th>\n",
       "      <th>OutcomeType</th>\n",
       "      <th>OutcomeSubtype</th>\n",
       "      <th>AnimalType</th>\n",
       "      <th>SexuponOutcome</th>\n",
       "      <th>AgeuponOutcome</th>\n",
       "      <th>Breed</th>\n",
       "      <th>Color</th>\n",
       "    </tr>\n",
       "  </thead>\n",
       "  <tbody>\n",
       "    <tr>\n",
       "      <th>0</th>\n",
       "      <td>A671945</td>\n",
       "      <td>Hambone</td>\n",
       "      <td>2014-02-12 18:22:00</td>\n",
       "      <td>Return_to_owner</td>\n",
       "      <td>NaN</td>\n",
       "      <td>Dog</td>\n",
       "      <td>Neutered Male</td>\n",
       "      <td>1 year</td>\n",
       "      <td>Shetland Sheepdog Mix</td>\n",
       "      <td>Brown/White</td>\n",
       "    </tr>\n",
       "    <tr>\n",
       "      <th>1</th>\n",
       "      <td>A656520</td>\n",
       "      <td>Emily</td>\n",
       "      <td>2013-10-13 12:44:00</td>\n",
       "      <td>Euthanasia</td>\n",
       "      <td>Suffering</td>\n",
       "      <td>Cat</td>\n",
       "      <td>Spayed Female</td>\n",
       "      <td>1 year</td>\n",
       "      <td>Domestic Shorthair Mix</td>\n",
       "      <td>Cream Tabby</td>\n",
       "    </tr>\n",
       "    <tr>\n",
       "      <th>2</th>\n",
       "      <td>A686464</td>\n",
       "      <td>Pearce</td>\n",
       "      <td>2015-01-31 12:28:00</td>\n",
       "      <td>Adoption</td>\n",
       "      <td>Foster</td>\n",
       "      <td>Dog</td>\n",
       "      <td>Neutered Male</td>\n",
       "      <td>2 years</td>\n",
       "      <td>Pit Bull Mix</td>\n",
       "      <td>Blue/White</td>\n",
       "    </tr>\n",
       "    <tr>\n",
       "      <th>3</th>\n",
       "      <td>A683430</td>\n",
       "      <td>NaN</td>\n",
       "      <td>2014-07-11 19:09:00</td>\n",
       "      <td>Transfer</td>\n",
       "      <td>Partner</td>\n",
       "      <td>Cat</td>\n",
       "      <td>Intact Male</td>\n",
       "      <td>3 weeks</td>\n",
       "      <td>Domestic Shorthair Mix</td>\n",
       "      <td>Blue Cream</td>\n",
       "    </tr>\n",
       "    <tr>\n",
       "      <th>4</th>\n",
       "      <td>A667013</td>\n",
       "      <td>NaN</td>\n",
       "      <td>2013-11-15 12:52:00</td>\n",
       "      <td>Transfer</td>\n",
       "      <td>Partner</td>\n",
       "      <td>Dog</td>\n",
       "      <td>Neutered Male</td>\n",
       "      <td>2 years</td>\n",
       "      <td>Lhasa Apso/Miniature Poodle</td>\n",
       "      <td>Tan</td>\n",
       "    </tr>\n",
       "  </tbody>\n",
       "</table>\n",
       "</div>"
      ],
      "text/plain": [
       "  AnimalID     Name             DateTime      OutcomeType OutcomeSubtype  \\\n",
       "0  A671945  Hambone  2014-02-12 18:22:00  Return_to_owner            NaN   \n",
       "1  A656520    Emily  2013-10-13 12:44:00       Euthanasia      Suffering   \n",
       "2  A686464   Pearce  2015-01-31 12:28:00         Adoption         Foster   \n",
       "3  A683430      NaN  2014-07-11 19:09:00         Transfer        Partner   \n",
       "4  A667013      NaN  2013-11-15 12:52:00         Transfer        Partner   \n",
       "\n",
       "  AnimalType SexuponOutcome AgeuponOutcome                        Breed  \\\n",
       "0        Dog  Neutered Male         1 year        Shetland Sheepdog Mix   \n",
       "1        Cat  Spayed Female         1 year       Domestic Shorthair Mix   \n",
       "2        Dog  Neutered Male        2 years                 Pit Bull Mix   \n",
       "3        Cat    Intact Male        3 weeks       Domestic Shorthair Mix   \n",
       "4        Dog  Neutered Male        2 years  Lhasa Apso/Miniature Poodle   \n",
       "\n",
       "         Color  \n",
       "0  Brown/White  \n",
       "1  Cream Tabby  \n",
       "2   Blue/White  \n",
       "3   Blue Cream  \n",
       "4          Tan  "
      ]
     },
     "execution_count": 3,
     "metadata": {},
     "output_type": "execute_result"
    }
   ],
   "source": [
    "animals_train = pd.read_csv('train.csv')\n",
    "animals_test = pd.read_csv('test.csv')\n",
    "pd_train = pd.read_csv('train.csv')\n",
    "pd_test = pd.read_csv('test.csv')\n",
    "pd_train.head()"
   ]
  },
  {
   "cell_type": "code",
   "execution_count": 4,
   "metadata": {},
   "outputs": [
    {
     "data": {
      "text/html": [
       "<div>\n",
       "<style scoped>\n",
       "    .dataframe tbody tr th:only-of-type {\n",
       "        vertical-align: middle;\n",
       "    }\n",
       "\n",
       "    .dataframe tbody tr th {\n",
       "        vertical-align: top;\n",
       "    }\n",
       "\n",
       "    .dataframe thead th {\n",
       "        text-align: right;\n",
       "    }\n",
       "</style>\n",
       "<table border=\"1\" class=\"dataframe\">\n",
       "  <thead>\n",
       "    <tr style=\"text-align: right;\">\n",
       "      <th></th>\n",
       "      <th>AnimalID</th>\n",
       "      <th>Name</th>\n",
       "      <th>DateTime</th>\n",
       "      <th>OutcomeType</th>\n",
       "      <th>OutcomeSubtype</th>\n",
       "      <th>AnimalType</th>\n",
       "      <th>SexuponOutcome</th>\n",
       "      <th>AgeuponOutcome</th>\n",
       "      <th>Breed</th>\n",
       "      <th>Color</th>\n",
       "    </tr>\n",
       "  </thead>\n",
       "  <tbody>\n",
       "    <tr>\n",
       "      <th>count</th>\n",
       "      <td>26729</td>\n",
       "      <td>19038</td>\n",
       "      <td>26729</td>\n",
       "      <td>26729</td>\n",
       "      <td>13117</td>\n",
       "      <td>26729</td>\n",
       "      <td>26728</td>\n",
       "      <td>26711</td>\n",
       "      <td>26729</td>\n",
       "      <td>26729</td>\n",
       "    </tr>\n",
       "    <tr>\n",
       "      <th>unique</th>\n",
       "      <td>26729</td>\n",
       "      <td>6374</td>\n",
       "      <td>22918</td>\n",
       "      <td>5</td>\n",
       "      <td>16</td>\n",
       "      <td>2</td>\n",
       "      <td>5</td>\n",
       "      <td>44</td>\n",
       "      <td>1380</td>\n",
       "      <td>366</td>\n",
       "    </tr>\n",
       "    <tr>\n",
       "      <th>top</th>\n",
       "      <td>A705677</td>\n",
       "      <td>Max</td>\n",
       "      <td>2015-08-11 00:00:00</td>\n",
       "      <td>Adoption</td>\n",
       "      <td>Partner</td>\n",
       "      <td>Dog</td>\n",
       "      <td>Neutered Male</td>\n",
       "      <td>1 year</td>\n",
       "      <td>Domestic Shorthair Mix</td>\n",
       "      <td>Black/White</td>\n",
       "    </tr>\n",
       "    <tr>\n",
       "      <th>freq</th>\n",
       "      <td>1</td>\n",
       "      <td>136</td>\n",
       "      <td>19</td>\n",
       "      <td>10769</td>\n",
       "      <td>7816</td>\n",
       "      <td>15595</td>\n",
       "      <td>9779</td>\n",
       "      <td>3969</td>\n",
       "      <td>8810</td>\n",
       "      <td>2824</td>\n",
       "    </tr>\n",
       "  </tbody>\n",
       "</table>\n",
       "</div>"
      ],
      "text/plain": [
       "       AnimalID   Name             DateTime OutcomeType OutcomeSubtype  \\\n",
       "count     26729  19038                26729       26729          13117   \n",
       "unique    26729   6374                22918           5             16   \n",
       "top     A705677    Max  2015-08-11 00:00:00    Adoption        Partner   \n",
       "freq          1    136                   19       10769           7816   \n",
       "\n",
       "       AnimalType SexuponOutcome AgeuponOutcome                   Breed  \\\n",
       "count       26729          26728          26711                   26729   \n",
       "unique          2              5             44                    1380   \n",
       "top           Dog  Neutered Male         1 year  Domestic Shorthair Mix   \n",
       "freq        15595           9779           3969                    8810   \n",
       "\n",
       "              Color  \n",
       "count         26729  \n",
       "unique          366  \n",
       "top     Black/White  \n",
       "freq           2824  "
      ]
     },
     "execution_count": 4,
     "metadata": {},
     "output_type": "execute_result"
    }
   ],
   "source": [
    "animals_train.describe()"
   ]
  },
  {
   "cell_type": "markdown",
   "metadata": {},
   "source": [
    "Transformamos los datos y comenzamos el análisis exploratorio."
   ]
  },
  {
   "cell_type": "code",
   "execution_count": 5,
   "metadata": {},
   "outputs": [
    {
     "data": {
      "text/html": [
       "<div>\n",
       "<style scoped>\n",
       "    .dataframe tbody tr th:only-of-type {\n",
       "        vertical-align: middle;\n",
       "    }\n",
       "\n",
       "    .dataframe tbody tr th {\n",
       "        vertical-align: top;\n",
       "    }\n",
       "\n",
       "    .dataframe thead th {\n",
       "        text-align: right;\n",
       "    }\n",
       "</style>\n",
       "<table border=\"1\" class=\"dataframe\">\n",
       "  <thead>\n",
       "    <tr style=\"text-align: right;\">\n",
       "      <th></th>\n",
       "      <th>OutcomeType</th>\n",
       "      <th>AnimalType</th>\n",
       "      <th>SexuponOutcome</th>\n",
       "      <th>TieneNombre</th>\n",
       "      <th>EdadEnDias</th>\n",
       "      <th>Nombre+Genero</th>\n",
       "      <th>Tipo+Genero</th>\n",
       "      <th>EsMezcla</th>\n",
       "    </tr>\n",
       "  </thead>\n",
       "  <tbody>\n",
       "    <tr>\n",
       "      <th>0</th>\n",
       "      <td>4</td>\n",
       "      <td>1</td>\n",
       "      <td>1</td>\n",
       "      <td>1</td>\n",
       "      <td>365.0</td>\n",
       "      <td>2</td>\n",
       "      <td>2</td>\n",
       "      <td>1</td>\n",
       "    </tr>\n",
       "    <tr>\n",
       "      <th>1</th>\n",
       "      <td>3</td>\n",
       "      <td>0</td>\n",
       "      <td>2</td>\n",
       "      <td>1</td>\n",
       "      <td>365.0</td>\n",
       "      <td>3</td>\n",
       "      <td>2</td>\n",
       "      <td>1</td>\n",
       "    </tr>\n",
       "    <tr>\n",
       "      <th>2</th>\n",
       "      <td>0</td>\n",
       "      <td>1</td>\n",
       "      <td>1</td>\n",
       "      <td>1</td>\n",
       "      <td>730.0</td>\n",
       "      <td>2</td>\n",
       "      <td>2</td>\n",
       "      <td>1</td>\n",
       "    </tr>\n",
       "    <tr>\n",
       "      <th>3</th>\n",
       "      <td>5</td>\n",
       "      <td>0</td>\n",
       "      <td>3</td>\n",
       "      <td>0</td>\n",
       "      <td>21.0</td>\n",
       "      <td>3</td>\n",
       "      <td>3</td>\n",
       "      <td>1</td>\n",
       "    </tr>\n",
       "    <tr>\n",
       "      <th>4</th>\n",
       "      <td>5</td>\n",
       "      <td>1</td>\n",
       "      <td>1</td>\n",
       "      <td>0</td>\n",
       "      <td>730.0</td>\n",
       "      <td>1</td>\n",
       "      <td>2</td>\n",
       "      <td>0</td>\n",
       "    </tr>\n",
       "  </tbody>\n",
       "</table>\n",
       "</div>"
      ],
      "text/plain": [
       "   OutcomeType  AnimalType  SexuponOutcome  TieneNombre  EdadEnDias  \\\n",
       "0            4           1               1            1       365.0   \n",
       "1            3           0               2            1       365.0   \n",
       "2            0           1               1            1       730.0   \n",
       "3            5           0               3            0        21.0   \n",
       "4            5           1               1            0       730.0   \n",
       "\n",
       "   Nombre+Genero  Tipo+Genero  EsMezcla  \n",
       "0              2            2         1  \n",
       "1              3            2         1  \n",
       "2              2            2         1  \n",
       "3              3            3         1  \n",
       "4              1            2         0  "
      ]
     },
     "execution_count": 5,
     "metadata": {},
     "output_type": "execute_result"
    }
   ],
   "source": [
    "pd_train = Transforma(pd_train,True)\n",
    "pd_test = Transforma(pd_test,False)\n",
    "pd_test.drop('ID',inplace=True,axis=1)\n",
    "train = pd_train.values\n",
    "test = pd_test.values\n",
    "animals_train['Sexo'] = animals_train.SexuponOutcome.apply(genero)\n",
    "animals_train['Esterilizado'] = animals_train.SexuponOutcome.apply(esteril)\n",
    "animals_train['Mezcla'] = animals_train.Breed.apply(raza)\n",
    "animals_test['Sexo'] = animals_test.SexuponOutcome.apply(genero)\n",
    "animals_test['Esterilizado'] = animals_test.SexuponOutcome.apply(esteril)\n",
    "animals_test['Mezcla'] = animals_test.Breed.apply(raza)\n",
    "animals_train['EdadEnAnios'] = animals_train.AgeuponOutcome.apply(edad_anios)\n",
    "animals_test['EdadEnAnios'] = animals_train.AgeuponOutcome.apply(edad_anios)\n",
    "animals_train['EdadEnCategoria'] = animals_train.EdadEnAnios.apply(edad_categorica)\n",
    "animals_test['EdadEnCategoria'] = animals_train.EdadEnAnios.apply(edad_categorica)\n",
    "pd_train.head()"
   ]
  },
  {
   "cell_type": "markdown",
   "metadata": {},
   "source": [
    "En el albergue hay más perros que gatos."
   ]
  },
  {
   "cell_type": "code",
   "execution_count": 6,
   "metadata": {},
   "outputs": [
    {
     "data": {
      "text/plain": [
       "<matplotlib.axes._subplots.AxesSubplot at 0x7ff8c3ee7710>"
      ]
     },
     "execution_count": 6,
     "metadata": {},
     "output_type": "execute_result"
    },
    {
     "data": {
      "image/png": "[encoded data removed]",
      "text/plain": [
       "<matplotlib.figure.Figure at 0x7ff9004d2c10>"
      ]
     },
     "metadata": {},
     "output_type": "display_data"
    }
   ],
   "source": [
    "sns.countplot(animals_train.AnimalType, palette='Set3')"
   ]
  },
  {
   "cell_type": "markdown",
   "metadata": {},
   "source": [
    "Los animales de este albergue tienen mucha suerte, en su mayoría los adoptan o los transfieren a un nuevo hogar. Casi no mueren ni son sacrificados."
   ]
  },
  {
   "cell_type": "code",
   "execution_count": 7,
   "metadata": {},
   "outputs": [
    {
     "data": {
      "text/plain": [
       "<matplotlib.axes._subplots.AxesSubplot at 0x7ff8c3ec4fd0>"
      ]
     },
     "execution_count": 7,
     "metadata": {},
     "output_type": "execute_result"
    },
    {
     "data": {
      "image/png": "[encoded data removed]",
      "text/plain": [
       "<matplotlib.figure.Figure at 0x7ff8c3f9b410>"
      ]
     },
     "metadata": {},
     "output_type": "display_data"
    }
   ],
   "source": [
    "sns.countplot(animals_train.OutcomeType, palette='Set3')"
   ]
  },
  {
   "cell_type": "markdown",
   "metadata": {},
   "source": [
    "Parece ser que no existe gran diferencia entre el sexo de las mascotas."
   ]
  },
  {
   "cell_type": "code",
   "execution_count": 8,
   "metadata": {},
   "outputs": [
    {
     "data": {
      "text/plain": [
       "<matplotlib.axes._subplots.AxesSubplot at 0x7ff8c3f6b0d0>"
      ]
     },
     "execution_count": 8,
     "metadata": {},
     "output_type": "execute_result"
    },
    {
     "data": {
      "image/png": "[encoded data removed]",
      "text/plain": [
       "<matplotlib.figure.Figure at 0x7ff8c3f8cfd0>"
      ]
     },
     "metadata": {},
     "output_type": "display_data"
    }
   ],
   "source": [
    "sns.countplot(data=animals_train, x='Sexo',hue='OutcomeType')"
   ]
  },
  {
   "cell_type": "markdown",
   "metadata": {},
   "source": [
    "Los perros son más propensos a ser adoptados mientras que los gatos son más propensos a ser transferidos. "
   ]
  },
  {
   "cell_type": "code",
   "execution_count": 9,
   "metadata": {},
   "outputs": [
    {
     "data": {
      "text/plain": [
       "<matplotlib.axes._subplots.AxesSubplot at 0x7ff8c3f6b190>"
      ]
     },
     "execution_count": 9,
     "metadata": {},
     "output_type": "execute_result"
    },
    {
     "data": {
      "image/png": "[encoded data removed]",
      "text/plain": [
       "<matplotlib.figure.Figure at 0x7ff908f08bd0>"
      ]
     },
     "metadata": {},
     "output_type": "display_data"
    }
   ],
   "source": [
    "sns.countplot(data=animals_train, x='AnimalType',hue='OutcomeType')"
   ]
  },
  {
   "cell_type": "markdown",
   "metadata": {},
   "source": [
    "Lo esterilizados son los que más adoptan y los intactos son transferidos con mayor frecuencia."
   ]
  },
  {
   "cell_type": "code",
   "execution_count": 10,
   "metadata": {},
   "outputs": [
    {
     "data": {
      "text/plain": [
       "<matplotlib.axes._subplots.AxesSubplot at 0x7ff8c3e6ef10>"
      ]
     },
     "execution_count": 10,
     "metadata": {},
     "output_type": "execute_result"
    },
    {
     "data": {
      "image/png": "[encoded data removed]",
      "text/plain": [
       "<matplotlib.figure.Figure at 0x7ff8c3dc8850>"
      ]
     },
     "metadata": {},
     "output_type": "display_data"
    }
   ],
   "source": [
    "sns.countplot(data=animals_train, x='Esterilizado',hue='OutcomeType')"
   ]
  },
  {
   "cell_type": "markdown",
   "metadata": {},
   "source": [
    "En su mayoría, el albergue consta de cachorros, la mayor cantidad de observaciones está entre 0-1 año de edad."
   ]
  },
  {
   "cell_type": "code",
   "execution_count": 11,
   "metadata": {},
   "outputs": [
    {
     "data": {
      "text/plain": [
       "<matplotlib.axes._subplots.AxesSubplot at 0x7ff8c3d08450>"
      ]
     },
     "execution_count": 11,
     "metadata": {},
     "output_type": "execute_result"
    },
    {
     "data": {
      "image/png": "[encoded data removed]",
      "text/plain": [
       "<matplotlib.figure.Figure at 0x7ff8c3ec4a10>"
      ]
     },
     "metadata": {},
     "output_type": "display_data"
    }
   ],
   "source": [
    "sns.distplot(animals_train.EdadEnAnios, bins = 20, kde=False)"
   ]
  },
  {
   "cell_type": "markdown",
   "metadata": {},
   "source": [
    "Viéndolo categóricamente."
   ]
  },
  {
   "cell_type": "code",
   "execution_count": 12,
   "metadata": {},
   "outputs": [
    {
     "data": {
      "text/plain": [
       "<matplotlib.axes._subplots.AxesSubplot at 0x7fa863fe5790>"
      ]
     },
     "execution_count": 12,
     "metadata": {},
     "output_type": "execute_result"
    },
    {
     "data": {
      "image/png": "[encoded data removed]",
      "text/plain": [
       "<matplotlib.figure.Figure at 0x7fa8641d4f10>"
      ]
     },
     "metadata": {},
     "output_type": "display_data"
    }
   ],
   "source": [
    "sns.countplot(data=animals_train, x='EdadEnCategoria',hue='OutcomeType')"
   ]
  },
  {
   "cell_type": "markdown",
   "metadata": {},
   "source": [
    "Ahora que hemos escogido los atributos de interés, comenzamos la construcción de algoritmos dividiendo los datos de prueba en prueba y validación."
   ]
  },
  {
   "cell_type": "code",
   "execution_count": 13,
   "metadata": {},
   "outputs": [],
   "source": [
    "X=np.array(pd_train.iloc[:,1:10])\n",
    "y=np.array(pd_train.iloc[:,0])\n",
    "X_train,X_test,y_train,y_test=train_test_split(X,y,test_size=0.2,random_state=6)\n",
    "scalerx = preprocessing.StandardScaler().fit(X_train)\n",
    "X_train=scalerx.transform(X_train)\n",
    "X_test=scalerx.transform(X_test)"
   ]
  },
  {
   "cell_type": "markdown",
   "metadata": {},
   "source": [
    "Comenzamos implementando el Árbol De Decisión."
   ]
  },
  {
   "cell_type": "code",
   "execution_count": 14,
   "metadata": {},
   "outputs": [
    {
     "name": "stdout",
     "output_type": "stream",
     "text": [
      "('Precision en validacion del Arbol De Decision:', 65.827994201000791, '%')\n",
      "             precision    recall  f1-score   support\n",
      "\n",
      "          0       0.65      0.84      0.73      2156\n",
      "          2       0.50      0.03      0.05        40\n",
      "          3       0.55      0.18      0.27       302\n",
      "          4       0.48      0.44      0.46       959\n",
      "          5       0.76      0.63      0.69      1889\n",
      "\n",
      "avg / total       0.65      0.65      0.64      5346\n",
      "\n",
      "[[1819    0    5  213  119]\n",
      " [   3    1    1    3   32]\n",
      " [  39    0   54   75  134]\n",
      " [ 442    0    8  420   89]\n",
      " [ 501    1   31  159 1197]]\n"
     ]
    },
    {
     "data": {
      "text/plain": [
       "<matplotlib.axes._subplots.AxesSubplot at 0x7ff8c3c14d50>"
      ]
     },
     "execution_count": 14,
     "metadata": {},
     "output_type": "execute_result"
    },
    {
     "data": {
      "image/png": "[encoded data removed]",
      "text/plain": [
       "<matplotlib.figure.Figure at 0x7ff8c3c14610>"
      ]
     },
     "metadata": {},
     "output_type": "display_data"
    }
   ],
   "source": [
    "arbol=DecisionTreeClassifier()\n",
    "arbol.fit(X_train,y_train)\n",
    "predar=arbol.predict(X_test) \n",
    "precisionArbol=arbol.score(X_train,y_train)\n",
    "print(\"Precision en validacion del Arbol De Decision:\",precisionArbol*100,\"%\") \n",
    "print(classification_report(y_test,predar))\n",
    "print(confusion_matrix(y_test,predar))\n",
    "cm=confusion_matrix(y_test,predar)\n",
    "sns.heatmap(cm,cmap='viridis')"
   ]
  },
  {
   "cell_type": "markdown",
   "metadata": {},
   "source": [
    "Vemos que su precisión es aceptable para este problema pues es del 65%, entonces aparentemente no existe un sobre ajuste.\n",
    "Evaluemos ahora el modelo con el conjunto de prueba."
   ]
  },
  {
   "cell_type": "code",
   "execution_count": 15,
   "metadata": {},
   "outputs": [
    {
     "name": "stdout",
     "output_type": "stream",
     "text": [
      "('Precision en la prueba del Arbol De Decision:', 17.905645553518649, '%')\n",
      "Predecimos con el Arbol De Decision,\n",
      "la probabilidad del animal de tener cierto desenlace, \n",
      "\n",
      "ID     Adoptado  Muerto  Euthanasia  Regresa_al_duenio  Transferido\n",
      "1           0.0     0.0         0.0                1.0          0.0\n",
      "2           0.0     0.0         0.0                1.0          0.0\n",
      "3           0.0     0.0         0.0                1.0          0.0\n",
      "4           0.0     0.0         0.0                1.0          0.0\n",
      "5           0.0     0.0         0.0                1.0          0.0\n",
      "6           0.0     0.0         0.0                1.0          0.0\n",
      "7           0.0     0.0         0.0                1.0          0.0\n",
      "8           0.0     0.0         0.0                1.0          0.0\n",
      "9           0.0     0.0         0.0                1.0          0.0\n",
      "10          0.0     0.0         0.0                1.0          0.0\n",
      "11          0.0     0.0         0.0                1.0          0.0\n",
      "12          0.0     0.0         0.0                1.0          0.0\n",
      "13          0.0     0.0         0.0                1.0          0.0\n",
      "14          0.0     0.0         0.0                1.0          0.0\n",
      "15          0.0     0.0         0.0                1.0          0.0\n",
      "16          0.0     0.0         0.0                1.0          0.0\n",
      "17          0.0     0.0         0.0                1.0          0.0\n",
      "18          0.0     0.0         0.0                1.0          0.0\n",
      "19          0.0     0.0         0.0                1.0          0.0\n",
      "20          0.0     0.0         0.0                1.0          0.0\n",
      "21          0.0     0.0         0.0                1.0          0.0\n",
      "22          0.0     0.0         0.0                1.0          0.0\n",
      "23          0.0     0.0         0.0                1.0          0.0\n",
      "24          0.0     0.0         0.0                1.0          0.0\n",
      "25          0.0     0.0         0.0                1.0          0.0\n",
      "26          0.0     0.0         0.0                1.0          0.0\n",
      "27          0.0     0.0         0.0                1.0          0.0\n",
      "28          0.0     0.0         0.0                1.0          0.0\n",
      "29          0.0     0.0         0.0                1.0          0.0\n",
      "30          0.0     0.0         0.0                1.0          0.0\n",
      "...         ...     ...         ...                ...          ...\n",
      "11427       0.0     0.0         0.0                1.0          0.0\n",
      "11428       0.0     0.0         0.0                1.0          0.0\n",
      "11429       0.0     0.0         0.0                1.0          0.0\n",
      "11430       0.0     0.0         0.0                1.0          0.0\n",
      "11431       0.0     0.0         0.0                1.0          0.0\n",
      "11432       0.0     0.0         0.0                1.0          0.0\n",
      "11433       0.0     0.0         0.0                1.0          0.0\n",
      "11434       0.0     0.0         0.0                1.0          0.0\n",
      "11435       0.0     0.0         0.0                1.0          0.0\n",
      "11436       0.0     0.0         0.0                1.0          0.0\n",
      "11437       0.0     0.0         0.0                1.0          0.0\n",
      "11438       0.0     0.0         0.0                1.0          0.0\n",
      "11439       0.0     0.0         0.0                1.0          0.0\n",
      "11440       0.0     0.0         0.0                1.0          0.0\n",
      "11441       0.0     0.0         0.0                1.0          0.0\n",
      "11442       0.0     0.0         0.0                1.0          0.0\n",
      "11443       0.0     0.0         0.0                1.0          0.0\n",
      "11444       0.0     0.0         0.0                1.0          0.0\n",
      "11445       0.0     0.0         0.0                1.0          0.0\n",
      "11446       0.0     0.0         0.0                1.0          0.0\n",
      "11447       0.0     0.0         0.0                1.0          0.0\n",
      "11448       0.0     0.0         0.0                1.0          0.0\n",
      "11449       0.0     0.0         0.0                1.0          0.0\n",
      "11450       0.0     0.0         0.0                1.0          0.0\n",
      "11451       0.0     0.0         0.0                1.0          0.0\n",
      "11452       0.0     0.0         0.0                1.0          0.0\n",
      "11453       0.0     0.0         0.0                1.0          0.0\n",
      "11454       0.0     0.0         0.0                1.0          0.0\n",
      "11455       0.0     0.0         0.0                1.0          0.0\n",
      "11456       0.0     0.0         0.0                1.0          0.0\n",
      "\n",
      "[11456 rows x 5 columns]\n"
     ]
    }
   ],
   "source": [
    "predictionsArbol = arbol.predict_proba(test)\n",
    "precisionPrueba=arbol.score(train[:,1:10],train[:,0])\n",
    "output = pd.DataFrame(predictionsArbol,columns=['Adoptado','Muerto','Euthanasia','Regresa_al_duenio','Transferido'])\n",
    "output.columns.names = ['ID']\n",
    "output.index.names = ['ID']\n",
    "output.index += 1\n",
    "print(\"Precision en la prueba del Arbol De Decision:\",precisionPrueba*100,\"%\")  \n",
    "print(\"Predecimos con el Arbol De Decision,\")\n",
    "print(\"la probabilidad del animal de tener cierto desenlace, \\n\")\n",
    "print(output)"
   ]
  },
  {
   "cell_type": "markdown",
   "metadata": {},
   "source": [
    "Ahora la precisión se fue a casi el 13%. Nótese que las probabilidades de clase son muy certeras. Esto implica que verdaderamente existía un sobreajuste a los datos.\n",
    "\n",
    "Probemos ahora el método conjunto de Bosque Aleatorio."
   ]
  },
  {
   "cell_type": "code",
   "execution_count": 17,
   "metadata": {},
   "outputs": [
    {
     "name": "stdout",
     "output_type": "stream",
     "text": [
      "('Precision en validacion del Bosque Aleatorio:', 65.827994201000791, '%')\n",
      "             precision    recall  f1-score   support\n",
      "\n",
      "          0       0.65      0.84      0.73      2156\n",
      "          2       0.00      0.00      0.00        40\n",
      "          3       0.58      0.17      0.27       302\n",
      "          4       0.48      0.44      0.46       959\n",
      "          5       0.76      0.64      0.69      1889\n",
      "\n",
      "avg / total       0.65      0.65      0.64      5346\n",
      "\n",
      "[[1812    0    2  215  127]\n",
      " [   3    0    2    3   32]\n",
      " [  39    0   52   73  138]\n",
      " [ 440    0    5  419   95]\n",
      " [ 489    1   28  158 1213]]\n"
     ]
    },
    {
     "data": {
      "text/plain": [
       "<matplotlib.axes._subplots.AxesSubplot at 0x7ff8c39fb910>"
      ]
     },
     "execution_count": 17,
     "metadata": {},
     "output_type": "execute_result"
    },
    {
     "data": {
      "image/png": "[encoded data removed]",
      "text/plain": [
       "<matplotlib.figure.Figure at 0x7ff8c39fbd90>"
      ]
     },
     "metadata": {},
     "output_type": "display_data"
    }
   ],
   "source": [
    "bosque = RandomForestClassifier(n_estimators = 400, max_features='auto')\n",
    "bosque.fit(X_train,y_train)\n",
    "predbo=bosque.predict(X_test) \n",
    "precisionBosque=bosque.score(X_train,y_train)\n",
    "print(\"Precision en validacion del Bosque Aleatorio:\",precisionBosque*100,\"%\") \n",
    "print(classification_report(y_test,predbo))\n",
    "print(confusion_matrix(y_test,predbo))\n",
    "cm=confusion_matrix(y_test,predbo)\n",
    "sns.heatmap(cm,cmap='viridis')"
   ]
  },
  {
   "cell_type": "markdown",
   "metadata": {},
   "source": [
    "Notar que a pesar de que cambia la matriz de confusión con respecto a la matriz de confusión del Árbol De Decisión, la precisión es la misma. Esto no da buena espina, pues el Bosque Aleatorio es un método conjunto que utiliza al Árbol De Decisión como su algoritmo débil. \n",
    "\n",
    "El hecho que las matrices de confusión sean tan similares y que la precisión  y demás métricas de desempeño sean iguales lleva a considerar que este conjunto de datos es un caso atípico donde la precisión del Bosque Aleatorio alcanza su peor rendimiento. Esto es tiene la precisión de su algoritmo débil, el Árbol Aleatorio. Veamos que dicen los datos de prueba."
   ]
  },
  {
   "cell_type": "code",
   "execution_count": 19,
   "metadata": {},
   "outputs": [
    {
     "name": "stdout",
     "output_type": "stream",
     "text": [
      "('Precision en la prueba del Bosque Aleatorio:', 13.502188634067865, '%')\n",
      "Predecimos con el Bosque Aleatorio,\n",
      "la probabilidad del animal de tener cierto desenlace, \n",
      "\n",
      "ID     Adoptado  Muerto  Euthanasia  Regresa_al_duenio  Transferido\n",
      "1      0.000000     0.0    0.812345           0.186155     0.001500\n",
      "2      0.000000     0.0    0.590369           0.408131     0.001500\n",
      "3      0.128058     0.0    0.218295           0.602856     0.050792\n",
      "4      0.000000     0.0    0.812345           0.186155     0.001500\n",
      "5      0.093804     0.0    0.236459           0.669737     0.000000\n",
      "6      0.093804     0.0    0.236459           0.669737     0.000000\n",
      "7      0.128058     0.0    0.218295           0.602856     0.050792\n",
      "8      0.000000     0.0    0.470224           0.528276     0.001500\n",
      "9      0.000000     0.0    0.590369           0.408131     0.001500\n",
      "10     0.000000     0.0    0.590369           0.408131     0.001500\n",
      "11     0.000000     0.0    0.590369           0.408131     0.001500\n",
      "12     0.000000     0.0    0.812345           0.186155     0.001500\n",
      "13     0.000000     0.0    0.590369           0.408131     0.001500\n",
      "14     0.143095     0.0    0.192748           0.619073     0.045083\n",
      "15     0.093804     0.0    0.236459           0.669737     0.000000\n",
      "16     0.000000     0.0    0.590369           0.408131     0.001500\n",
      "17     0.093804     0.0    0.236459           0.669737     0.000000\n",
      "18     0.093804     0.0    0.236459           0.669737     0.000000\n",
      "19     0.000000     0.0    0.470224           0.528276     0.001500\n",
      "20     0.000000     0.0    0.812345           0.186155     0.001500\n",
      "21     0.000000     0.0    0.470224           0.528276     0.001500\n",
      "22     0.000000     0.0    0.812345           0.186155     0.001500\n",
      "23     0.093804     0.0    0.236459           0.669737     0.000000\n",
      "24     0.000000     0.0    0.812345           0.186155     0.001500\n",
      "25     0.000000     0.0    0.590369           0.408131     0.001500\n",
      "26     0.178808     0.0    0.174488           0.646704     0.000000\n",
      "27     0.000000     0.0    0.470224           0.528276     0.001500\n",
      "28     0.000000     0.0    0.812345           0.186155     0.001500\n",
      "29     0.093804     0.0    0.236459           0.669737     0.000000\n",
      "30     0.093804     0.0    0.236459           0.669737     0.000000\n",
      "...         ...     ...         ...                ...          ...\n",
      "11427  0.093804     0.0    0.236459           0.669737     0.000000\n",
      "11428  0.000000     0.0    0.812345           0.186155     0.001500\n",
      "11429  0.093804     0.0    0.236459           0.669737     0.000000\n",
      "11430  0.000000     0.0    0.590369           0.408131     0.001500\n",
      "11431  0.000000     0.0    0.298999           0.699501     0.001500\n",
      "11432  0.000000     0.0    0.812345           0.186155     0.001500\n",
      "11433  0.000000     0.0    0.590369           0.408131     0.001500\n",
      "11434  0.000000     0.0    0.812345           0.186155     0.001500\n",
      "11435  0.000000     0.0    0.590369           0.408131     0.001500\n",
      "11436  0.000000     0.0    0.812345           0.186155     0.001500\n",
      "11437  0.178808     0.0    0.174488           0.646704     0.000000\n",
      "11438  0.000000     0.0    0.812345           0.186155     0.001500\n",
      "11439  0.143095     0.0    0.192748           0.619073     0.045083\n",
      "11440  0.000000     0.0    0.590369           0.408131     0.001500\n",
      "11441  0.000000     0.0    0.812345           0.186155     0.001500\n",
      "11442  0.093804     0.0    0.236459           0.669737     0.000000\n",
      "11443  0.093804     0.0    0.236459           0.669737     0.000000\n",
      "11444  0.000000     0.0    0.470224           0.528276     0.001500\n",
      "11445  0.000000     0.0    0.812345           0.186155     0.001500\n",
      "11446  0.000000     0.0    0.812345           0.186155     0.001500\n",
      "11447  0.178808     0.0    0.174488           0.646704     0.000000\n",
      "11448  0.000000     0.0    0.590369           0.408131     0.001500\n",
      "11449  0.000000     0.0    0.434644           0.563856     0.001500\n",
      "11450  0.000000     0.0    0.590369           0.408131     0.001500\n",
      "11451  0.093804     0.0    0.236459           0.669737     0.000000\n",
      "11452  0.178808     0.0    0.174488           0.646704     0.000000\n",
      "11453  0.000000     0.0    0.812345           0.186155     0.001500\n",
      "11454  0.000000     0.0    0.812345           0.186155     0.001500\n",
      "11455  0.093804     0.0    0.236459           0.669737     0.000000\n",
      "11456  0.000000     0.0    0.812345           0.186155     0.001500\n",
      "\n",
      "[11456 rows x 5 columns]\n"
     ]
    }
   ],
   "source": [
    "predictionsBosque = bosque.predict_proba(test)\n",
    "precisionPruebaB=bosque.score(train[:,1:10],train[:,0])\n",
    "output = pd.DataFrame(predictionsBosque,columns=['Adoptado','Muerto','Euthanasia','Regresa_al_duenio','Transferido'])\n",
    "output.columns.names = ['ID']\n",
    "output.index.names = ['ID']\n",
    "output.index += 1\n",
    "print(\"Precision en la prueba del Bosque Aleatorio:\",precisionPruebaB*100,\"%\")  \n",
    "print(\"Predecimos con el Bosque Aleatorio,\")\n",
    "print(\"la probabilidad del animal de tener cierto desenlace, \\n\")\n",
    "print(output)"
   ]
  },
  {
   "cell_type": "markdown",
   "metadata": {},
   "source": [
    "Nuevamente tenemos probabilidades de clase bastante sesgadas y una disminución crítica de precisión de nuevo a 13%. Esto implica que este conjunto de datos es uno de los casos atípicos donde Bosques Aleatorios sólo logra alcanzar la misma precisión que el Árbol De Decisión. En efecto, la reducción crítica de la precisión implica que el Bosque Aleatorio sobreajusta los datos, como su algoritmo débil, el Árbol De Decisión.\n",
    "\n",
    "Tratemos de corregir esto utilizando ahora el método conjunto de AdaBoost."
   ]
  },
  {
   "cell_type": "code",
   "execution_count": 20,
   "metadata": {},
   "outputs": [
    {
     "name": "stdout",
     "output_type": "stream",
     "text": [
      "('Precision en validacion de AdaBoost:', 63.326006640789409, '%')\n",
      "             precision    recall  f1-score   support\n",
      "\n",
      "          0       0.64      0.84      0.73      2156\n",
      "          2       0.00      0.00      0.00        40\n",
      "          3       0.38      0.12      0.18       302\n",
      "          4       0.49      0.38      0.43       959\n",
      "          5       0.73      0.65      0.69      1889\n",
      "\n",
      "avg / total       0.63      0.64      0.62      5346\n",
      "\n",
      "[[1806    0    2  210  138]\n",
      " [   3    0    1    3   33]\n",
      " [  45    0   36   50  171]\n",
      " [ 452    0   22  365  120]\n",
      " [ 496    0   35  124 1234]]\n"
     ]
    },
    {
     "name": "stderr",
     "output_type": "stream",
     "text": [
      "/home/luxorville/virtualenvs/ML/local/lib/python2.7/site-packages/sklearn/metrics/classification.py:1135: UndefinedMetricWarning: Precision and F-score are ill-defined and being set to 0.0 in labels with no predicted samples.\n",
      "  'precision', 'predicted', average, warn_for)\n"
     ]
    },
    {
     "data": {
      "text/plain": [
       "<matplotlib.axes._subplots.AxesSubplot at 0x7ff8c3944a90>"
      ]
     },
     "execution_count": 20,
     "metadata": {},
     "output_type": "execute_result"
    },
    {
     "data": {
      "image/png": "[encoded data removed]",
      "text/plain": [
       "<matplotlib.figure.Figure at 0x7ff8c3944610>"
      ]
     },
     "metadata": {},
     "output_type": "display_data"
    }
   ],
   "source": [
    "AB=AdaBoostClassifier()\n",
    "AB.fit(X_train,y_train)\n",
    "predAB=AB.predict(X_test)\n",
    "precisionAB=AB.score(X_train,y_train)\n",
    "print(\"Precision en validacion de AdaBoost:\",precisionAB*100,\"%\") \n",
    "print(classification_report(y_test,predAB))\n",
    "print(confusion_matrix(y_test,predAB))\n",
    "cm=confusion_matrix(y_test,predAB)\n",
    "sns.heatmap(cm,cmap='viridis')"
   ]
  },
  {
   "cell_type": "markdown",
   "metadata": {},
   "source": [
    "Ahora la precisión junto con las otras métricas de desempeño se disminuyeron. Está pérdida de precisión inicial no es tan grave y es hasta cierto punto aceptable si se logró que este método corrigiera el sobreajuste de los métodos anteriores.\n",
    "\n",
    "Veamos si esto ocurrió."
   ]
  },
  {
   "cell_type": "code",
   "execution_count": 19,
   "metadata": {},
   "outputs": [
    {
     "name": "stdout",
     "output_type": "stream",
     "text": [
      "('Precision en la prueba de AdaBoost:', 5.881252572112686, '%')\n",
      "Predecimos con AdaBoost,\n",
      "la probabilidad del animal de tener cierto desenlace, \n",
      "\n",
      "ID     Adoptado    Muerto  Euthanasia  Regresa_al_duenio  Transferido\n",
      "1      0.121005  0.115544    0.258840           0.257096     0.247514\n",
      "2      0.216007  0.104332    0.231377           0.227161     0.221124\n",
      "3      0.217804  0.104083    0.231543           0.226869     0.219700\n",
      "4      0.121005  0.115544    0.258840           0.257096     0.247514\n",
      "5      0.216395  0.104113    0.231125           0.227969     0.220398\n",
      "6      0.216395  0.104113    0.231125           0.227969     0.220398\n",
      "7      0.217804  0.104083    0.231543           0.226869     0.219700\n",
      "8      0.216007  0.104332    0.231377           0.227161     0.221124\n",
      "9      0.216007  0.104332    0.231377           0.227161     0.221124\n",
      "10     0.216007  0.104332    0.231377           0.227161     0.221124\n",
      "11     0.216007  0.104332    0.231377           0.227161     0.221124\n",
      "12     0.121005  0.115544    0.258840           0.257096     0.247514\n",
      "13     0.216007  0.104332    0.231377           0.227161     0.221124\n",
      "14     0.212497  0.105020    0.232435           0.229345     0.220703\n",
      "15     0.216395  0.104113    0.231125           0.227969     0.220398\n",
      "16     0.216007  0.104332    0.231377           0.227161     0.221124\n",
      "17     0.216395  0.104113    0.231125           0.227969     0.220398\n",
      "18     0.216395  0.104113    0.231125           0.227969     0.220398\n",
      "19     0.216007  0.104332    0.231377           0.227161     0.221124\n",
      "20     0.121005  0.115544    0.258840           0.257096     0.247514\n",
      "21     0.216007  0.104332    0.231377           0.227161     0.221124\n",
      "22     0.121005  0.115544    0.258840           0.257096     0.247514\n",
      "23     0.216395  0.104113    0.231125           0.227969     0.220398\n",
      "24     0.121005  0.115544    0.258840           0.257096     0.247514\n",
      "25     0.216007  0.104332    0.231377           0.227161     0.221124\n",
      "26     0.213887  0.104993    0.232863           0.228247     0.220011\n",
      "27     0.216007  0.104332    0.231377           0.227161     0.221124\n",
      "28     0.121005  0.115544    0.258840           0.257096     0.247514\n",
      "29     0.216395  0.104113    0.231125           0.227969     0.220398\n",
      "30     0.216395  0.104113    0.231125           0.227969     0.220398\n",
      "...         ...       ...         ...                ...          ...\n",
      "11427  0.216395  0.104113    0.231125           0.227969     0.220398\n",
      "11428  0.121005  0.115544    0.258840           0.257096     0.247514\n",
      "11429  0.216395  0.104113    0.231125           0.227969     0.220398\n",
      "11430  0.216007  0.104332    0.231377           0.227161     0.221124\n",
      "11431  0.216007  0.104332    0.231377           0.227161     0.221124\n",
      "11432  0.121005  0.115544    0.258840           0.257096     0.247514\n",
      "11433  0.216007  0.104332    0.231377           0.227161     0.221124\n",
      "11434  0.121005  0.115544    0.258840           0.257096     0.247514\n",
      "11435  0.216007  0.104332    0.231377           0.227161     0.221124\n",
      "11436  0.121005  0.115544    0.258840           0.257096     0.247514\n",
      "11437  0.213887  0.104993    0.232863           0.228247     0.220011\n",
      "11438  0.121005  0.115544    0.258840           0.257096     0.247514\n",
      "11439  0.212497  0.105020    0.232435           0.229345     0.220703\n",
      "11440  0.216007  0.104332    0.231377           0.227161     0.221124\n",
      "11441  0.121005  0.115544    0.258840           0.257096     0.247514\n",
      "11442  0.216395  0.104113    0.231125           0.227969     0.220398\n",
      "11443  0.216395  0.104113    0.231125           0.227969     0.220398\n",
      "11444  0.216007  0.104332    0.231377           0.227161     0.221124\n",
      "11445  0.121005  0.115544    0.258840           0.257096     0.247514\n",
      "11446  0.121005  0.115544    0.258840           0.257096     0.247514\n",
      "11447  0.213887  0.104993    0.232863           0.228247     0.220011\n",
      "11448  0.216007  0.104332    0.231377           0.227161     0.221124\n",
      "11449  0.216007  0.104332    0.231377           0.227161     0.221124\n",
      "11450  0.216007  0.104332    0.231377           0.227161     0.221124\n",
      "11451  0.216395  0.104113    0.231125           0.227969     0.220398\n",
      "11452  0.213887  0.104993    0.232863           0.228247     0.220011\n",
      "11453  0.121005  0.115544    0.258840           0.257096     0.247514\n",
      "11454  0.121005  0.115544    0.258840           0.257096     0.247514\n",
      "11455  0.216395  0.104113    0.231125           0.227969     0.220398\n",
      "11456  0.121005  0.115544    0.258840           0.257096     0.247514\n",
      "\n",
      "[11456 rows x 5 columns]\n"
     ]
    }
   ],
   "source": [
    "predictionsAB = AB.predict_proba(test)\n",
    "precisionPruebaAB=AB.score(train[:,1:10],train[:,0])\n",
    "output = pd.DataFrame(predictionsAB,columns=['Adoptado','Muerto','Euthanasia','Regresa_al_duenio','Transferido'])\n",
    "output.columns.names = ['ID']\n",
    "output.index.names = ['ID']\n",
    "output.index += 1\n",
    "print(\"Precision en la prueba de AdaBoost:\",precisionPruebaAB*100,\"%\")  \n",
    "print(\"Predecimos con AdaBoost,\")\n",
    "print(\"la probabilidad del animal de tener cierto desenlace, \\n\")\n",
    "print(output)"
   ]
  },
  {
   "cell_type": "markdown",
   "metadata": {},
   "source": [
    "El rendimiento bajo aún más críticamente que en los otros dos métodos anteriores hasta tan sólo un 5%. Por lo tanto, AdaBoost no logra solucionar el problema de sobreajuste."
   ]
  },
  {
   "cell_type": "markdown",
   "metadata": {},
   "source": [
    "# Conclusiones\n",
    "\n",
    "Al implementar los algoritmos de la familia de árboles de decisión no obtuvimos resultados satisfactorios para este problema de clasificación. Vemos que para estos datos el algoritmo del Árbol De Decisión sobreajusta los datos. Tratamos de corregirlo utilizando el método conjunto que lo utiliza como algoritmo débil, el Bosque Aleatorio. \n",
    "\n",
    "Sin embargo, tampoco fue posible mejorar la precisión. Más aún, se obtuvo el peor caso de Bosque Aleatorio, en el que la precisión coincidía con la del Árbol De Decisión. Es decir, persistía el sobreajuste. Para corregir esto se decidió implementar el algoritmo AdaBoost. Pero, ahora notamos que este problema es un caso degenerado en donde el sobreajuste persistió y la presición disminuyo críticamente en la etapa de prueba.\n",
    "\n",
    "No se sugiere reducir atributos, pues es facil corroborar que eso no mejorará la precisión. Lo que se sugiere es utilizar otro tipo de métodos para hacer clasificación categórica o implementar algún tipo de regularización sobre el error, por ejemplo, penalizar los datos extraños como las inconsistencias en observaciones (datos no registrados o desconocidos). En particular, se considera que una implementación de redes neuronales o de regresión logística podrían generar un algoritmo de clasificación mucho más preciso para este problema."
   ]
  },
  {
   "cell_type": "markdown",
   "metadata": {},
   "source": [
    "# Bibliografia\n",
    "- Shelter Animal Outcomes, reto de Kaggle, disponible en línea en https://www.kaggle.com/c/shelter-animal-outcomes.\n",
    "- Presentaciones del profesor Fernando Esponda para el curso de Aprendizaje de Máquina, Otoño 2017, ITAM. Disponibles en línea en https://github.com/ClaseML-2017/MaterialyTareas/tree/master/clases.\n"
   ]
  }
 ],
 "metadata": {
  "kernelspec": {
   "display_name": "Python 2",
   "language": "python",
   "name": "python2"
  },
  "language_info": {
   "codemirror_mode": {
    "name": "ipython",
    "version": 2
   },
   "file_extension": ".py",
   "mimetype": "text/x-python",
   "name": "python",
   "nbconvert_exporter": "python",
   "pygments_lexer": "ipython2",
   "version": "2.7.12"
  }
 },
 "nbformat": 4,
 "nbformat_minor": 2
}
